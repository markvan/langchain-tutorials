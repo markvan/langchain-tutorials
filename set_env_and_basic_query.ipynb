{
 "cells": [
  {
   "cell_type": "markdown",
   "source": [
    "### A simple instantiation and query of a synchronous openai client instance\n",
    "\n",
    "Notable: Did some experimentation to set the environment variable for the OpenAI key\n",
    "~~~\n",
    "    # get the openai api key\n",
    "    from dotenv import dotenv_values\n",
    "    config = dotenv_values(\".env\")\n",
    "    openai_api_key=config['OPENAI_API_KEY']\n",
    "    %env OPENAI_API_KEY= dollar_sign openai_api_key\n",
    "~~~\n",
    "note this won't work with dollar_sign config['OPENAI_API_KEY']\n",
    "see\n",
    "https://ipython.readthedocs.io/en/stable/interactive/magics.html\n",
    "\n",
    "Left not working approaches commented out in the code below for documentation"
   ],
   "metadata": {
    "collapsed": false
   }
  },
  {
   "cell_type": "code",
   "execution_count": null,
   "outputs": [],
   "source": [
    "from openai import OpenAI\n",
    "# from os import environ\n",
    "# as yet useless to get key from environ\n",
    "# print(f\"OPENAI_API_KEY is {environ['OPENAI_API_KEY']}\")\n",
    "# OPENAI_API_KEY is openai_api_key\n",
    "\n",
    "# get the openai api key\n",
    "from dotenv import dotenv_values\n",
    "config = dotenv_values(\".env\")\n",
    "openai_api_key=config['OPENAI_API_KEY']\n",
    "%env OPENAI_API_KEY=$openai_api_key\n",
    "\n",
    "messages = [{'role': 'system', 'content': 'You are a helpful assistant.'}]\n",
    "message = input('message> ')\n",
    "messages.append(dict(role='user', content=message))\n",
    "\n",
    "#don't know how to specify the key outside this\n",
    "client = OpenAI(\n",
    "    #set environment variable above so this named parameter is not needed\n",
    "    # api_key=openai_api_key,\n",
    ")\n",
    "\n",
    "response = client.chat.completions.create(\n",
    "    model='gpt-3.5-turbo',\n",
    "    messages=messages)\n",
    "\n",
    "print(response)"
   ],
   "metadata": {
    "collapsed": false
   }
  },
  {
   "cell_type": "code",
   "execution_count": null,
   "outputs": [],
   "source": [
    "print(response.choices[0].message.content)\n"
   ],
   "metadata": {
    "collapsed": false
   }
  },
  {
   "cell_type": "code",
   "execution_count": null,
   "outputs": [],
   "source": [
    "print(f\"type of response {type(response)}\")\n",
    "# <class 'openai.types.chat.chat_completion.ChatCompletion'>\n",
    "\n",
    "print(f\"type of response.choices[0] {type(response.choices[0])}\")\n",
    "# <class 'openai.types.chat.chat_completion.Choice'>\n",
    "\n",
    "print(f\"type of response.choices[0].message {type(response.choices[0].message)}\")\n",
    "# <class 'openai.types.chat.chat_completion_message.ChatCompletionMessage'>\n",
    "\n",
    "print(f\"type of response.choices[0].message.content {type(response.choices[0].message.content)}\")\n",
    "# <class 'str'>\n"
   ],
   "metadata": {
    "collapsed": false
   }
  },
  {
   "cell_type": "code",
   "execution_count": null,
   "outputs": [],
   "source": [
    "def chat_message(response):\n",
    "    return response.choices[0].message.content\n",
    "\n",
    "print(chat_message(response))\n"
   ],
   "metadata": {
    "collapsed": false
   }
  }
 ],
 "metadata": {
  "kernelspec": {
   "display_name": "Python 3",
   "language": "python",
   "name": "python3"
  },
  "language_info": {
   "codemirror_mode": {
    "name": "ipython",
    "version": 2
   },
   "file_extension": ".py",
   "mimetype": "text/x-python",
   "name": "python",
   "nbconvert_exporter": "python",
   "pygments_lexer": "ipython2",
   "version": "2.7.6"
  }
 },
 "nbformat": 4,
 "nbformat_minor": 0
}
