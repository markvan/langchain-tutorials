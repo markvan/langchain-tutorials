{
 "cells": [
  {
   "cell_type": "code",
   "execution_count": 12,
   "metadata": {
    "collapsed": true,
    "ExecuteTime": {
     "end_time": "2024-02-11T04:50:35.133804Z",
     "start_time": "2024-02-11T04:50:26.851861Z"
    }
   },
   "outputs": [
    {
     "name": "stdout",
     "output_type": "stream",
     "text": [
      "ChatCompletion(id='chatcmpl-8qw5SXhiauk6aZxGfLnFZE85m0oiv', choices=[Choice(finish_reason='stop', index=0, logprobs=None, message=ChatCompletionMessage(content='สวัสดี (Sawatdee)', role='assistant', function_call=None, tool_calls=None))], created=1707627034, model='gpt-3.5-turbo-0613', object='chat.completion', system_fingerprint=None, usage=CompletionUsage(completion_tokens=12, prompt_tokens=21, total_tokens=33))\n"
     ]
    }
   ],
   "source": [
    "import openai\n",
    "from openai import OpenAI\n",
    "from os import environ\n",
    "\n",
    "# get the openai api key\n",
    "from dotenv import dotenv_values\n",
    "config = dotenv_values(\".env\")\n",
    "openai_api_key=config['OPENAI_API_KEY']\n",
    "\n",
    "#not needed openai.api_key = openai_api_key\n",
    "\n",
    "messages = [{'role': 'system', 'content': 'You are a helpful assistant.'}]\n",
    "message = input('message> ')\n",
    "messages.append(dict(role='user', content=message))\n",
    "\n",
    "client = OpenAI(\n",
    "    api_key=openai_api_key,\n",
    ")\n",
    "\n",
    "response = client.chat.completions.create(\n",
    "    model='gpt-3.5-turbo',\n",
    "    messages=messages)\n",
    "\n",
    "print(response)"
   ]
  },
  {
   "cell_type": "code",
   "execution_count": 7,
   "outputs": [
    {
     "name": "stdout",
     "output_type": "stream",
     "text": [
      "One thing that is always true is that change is constant. In all aspects of life, things are constantly changing - whether it be the seasons, technology, or personal circumstances. Embracing and adapting to change can help us navigate through life more effectively.\n"
     ]
    }
   ],
   "source": [
    "print(response.choices[0].message.content)\n"
   ],
   "metadata": {
    "collapsed": false,
    "ExecuteTime": {
     "end_time": "2024-02-11T04:42:46.080989Z",
     "start_time": "2024-02-11T04:42:46.055897Z"
    }
   }
  }
 ],
 "metadata": {
  "kernelspec": {
   "display_name": "Python 3",
   "language": "python",
   "name": "python3"
  },
  "language_info": {
   "codemirror_mode": {
    "name": "ipython",
    "version": 2
   },
   "file_extension": ".py",
   "mimetype": "text/x-python",
   "name": "python",
   "nbconvert_exporter": "python",
   "pygments_lexer": "ipython2",
   "version": "2.7.6"
  }
 },
 "nbformat": 4,
 "nbformat_minor": 0
}
