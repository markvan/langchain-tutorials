{
 "cells": [
  {
   "cell_type": "markdown",
   "source": [
    "### A first conversation chain example with context and memory\n",
    "\n",
    "As offered in a [stackoverflow answer](https://stackoverflow.com/questions/76144215/langchain-with-context-and-memory) by [Andrew Reece](https://stackoverflow.com/users/2799941/andrew-reece)"
   ],
   "metadata": {
    "collapsed": false
   }
  },
  {
   "cell_type": "markdown",
   "source": [
    "[Pandas DataFrame](https://pandas.pydata.org/pandas-docs/stable/reference/api/pandas.DataFrame.html) is a mutable 2D structure\n",
    "\n",
    "In turn this data structure is loaded into a LangChain Document by a [LangChain DataFrameLoader](https://api.python.langchain.com/en/latest/document_loaders/langchain_community.document_loaders.dataframe.DataFrameLoader.html#).\n",
    "\n",
    "Note that the DataFrameLoader works by default with a column called `text`, but a different column can be used if specified at DataFrameLoader instantiation time. See [here](https://github.com/langchain-ai/langchain/issues/12601).\n",
    "\n",
    "See also this [page of examples using DataFrameLoader](https://python.langchain.com/docs/integrations/document_loaders/pandas_dataframe) and [this integrations page](https://python.langchain.com/docs/integrations/toolkits/pandas)."
   ],
   "metadata": {
    "collapsed": false
   }
  },
  {
   "cell_type": "code",
   "execution_count": null,
   "outputs": [],
   "source": [
    "import pandas as pd\n",
    "\n",
    "from langchain.document_loaders import DataFrameLoader\n",
    "from langchain.llms import OpenAI\n",
    "from langchain.embeddings.openai import OpenAIEmbeddings\n",
    "from langchain.vectorstores import Chroma\n",
    "from langchain.chains import ConversationalRetrievalChain\n",
    "from langchain.memory import ConversationBufferMemory\n",
    "\n",
    "data = {\n",
    "    'index': ['001', '002', '003'],\n",
    "    'text': [\n",
    "        'title: cat friend likes blue\\ni like cats and the color blue.',\n",
    "        'title: dog friend\\ni like dogs and the smell of rain.',\n",
    "        'title: bird friend\\ni like birds and the feel of sunshine.'\n",
    "    ]\n",
    "}\n",
    "\n",
    "df = pd.DataFrame(data)\n",
    "loader = DataFrameLoader(df, page_content_column=\"text\")\n",
    "docs = loader.load()"
   ],
   "metadata": {
    "collapsed": false
   }
  },
  {
   "cell_type": "code",
   "execution_count": null,
   "outputs": [],
   "source": [
    "print(docs)"
   ],
   "metadata": {
    "collapsed": false
   }
  },
  {
   "cell_type": "markdown",
   "source": [
    "Discuss embeddings\n",
    "\n",
    "Discuss Chroma\n",
    "\n",
    "Store embeddings in Chroma\n",
    "\n",
    "[Get an openai key](https://platform.openai.com/api-keys) first and [set up your .env file](https://pypi.org/project/python-dotenv/) in the current directory, otherwise you will get a validation error that will look like this:\n",
    "`    ValidationError: 1 validation error for OpenAIEmbeddings`\n",
    "\n",
    "You may also have an unsupported version of SQLite3, and see an error message like:\n",
    "`RuntimeError: Your system has an unsupported version of sqlite3. Chroma                     requires sqlite3 >= 3.35.0.`\n",
    "The fix is simple to apply, download and use a more modern python with the correct version of sqlite. The error message should contain a [URL for help](https://docs.trychroma.com/troubleshooting#sqlite).\n"
   ],
   "metadata": {
    "collapsed": false
   }
  },
  {
   "cell_type": "code",
   "execution_count": null,
   "outputs": [],
   "source": [
    "import sys\n",
    "# get the openai api key\n",
    "from dotenv import dotenv_values\n",
    "config = dotenv_values(\".env\")\n",
    "openai_api_key=config['OPENAI_API_KEY']\n",
    "%env OPENAI_API_KEY=$openai_api_key\n",
    "print(sys.version)\n",
    "\n",
    "import sqlite3\n",
    "print(sqlite3.sqlite_version)\n",
    "\n",
    "embeddings = OpenAIEmbeddings()\n",
    "vectorstore = Chroma.from_documents(docs, embeddings)"
   ],
   "metadata": {
    "collapsed": false
   }
  },
  {
   "cell_type": "markdown",
   "source": [
    "<span style=\"color:red\">*todo* discuss:</span>\n",
    "\n",
    "ConversationBufferMemory\n",
    "\n",
    "ConversationalRetrievalChain.from_llm(\n",
    "    OpenAI(temperature=0.8),\n",
    "    vectorstore.as_retriever(search_kwargs={\"k\": 3}),\n",
    "    memory=memory\n",
    ")"
   ],
   "metadata": {
    "collapsed": false
   }
  },
  {
   "cell_type": "code",
   "execution_count": null,
   "outputs": [],
   "source": [
    "memory = ConversationBufferMemory(memory_key=\"chat_history\", return_messages=True)\n",
    "\n",
    "qa = ConversationalRetrievalChain.from_llm(\n",
    "    OpenAI(temperature=0.8),\n",
    "    vectorstore.as_retriever(search_kwargs={\"k\": 3}),\n",
    "    memory=memory\n",
    ")"
   ],
   "metadata": {
    "collapsed": false
   }
  },
  {
   "cell_type": "markdown",
   "source": [
    "<span style=\"color:red\">*todo* discuss:</span>\n"
   ],
   "metadata": {
    "collapsed": false
   }
  },
  {
   "cell_type": "code",
   "execution_count": null,
   "outputs": [],
   "source": [
    "q_1 = \"What are all of the document titles?\"\n",
    "result = qa({\"question\": q_1})\n",
    "\n",
    "result"
   ],
   "metadata": {
    "collapsed": false
   }
  },
  {
   "cell_type": "markdown",
   "source": [
    "<span style=\"color:red\">*todo* discuss:</span>\n",
    "\n",
    "Test memory by referring to document titles as \"those\", unfortunately (sometimes? always?) boht a title and content are mentioned in the answer\n",
    "\n",
    "More convincing test needed, by putting this into an interactive loop\n"
   ],
   "metadata": {
    "collapsed": false
   }
  },
  {
   "cell_type": "code",
   "execution_count": null,
   "outputs": [],
   "source": [
    "q_2 = (\"Do any of those mention a color?\")\n",
    "result = qa({\"question\": q_2})\n",
    "\n",
    "# print(f\"result is\\n\\n\")\n",
    "# for key, value in result.items():\n",
    "#     print(key, \":\", value,\"\\n\\n\")\n",
    "\n",
    "print(f\"\\n\\nanswer is\\n{result['answer']}\")"
   ],
   "metadata": {
    "collapsed": false
   }
  },
  {
   "cell_type": "markdown",
   "source": [
    "<span style=\"color:red\">*todo* check this:</span> [handy Medium post](https://medium.com/coinmonks/creating-an-ai-trained-using-thousands-of-industries-standards-fe269c0d0b5b)."
   ],
   "metadata": {
    "collapsed": false
   }
  },
  {
   "cell_type": "code",
   "execution_count": null,
   "outputs": [],
   "source": [
    "#installed chromadb 0.4.22\n",
    "# !pip3 install chromadb\n"
   ],
   "metadata": {
    "collapsed": false
   }
  },
  {
   "cell_type": "code",
   "execution_count": null,
   "outputs": [],
   "source": [
    "#already got 0.9.0 highest stable\n",
    "# !pip3 install jupyter-events\n",
    "\n",
    "# Successfully installed urllib3-2.2.0, incompatible with current version of kubernetes\n",
    "#!pip3 install --upgrade urllib3\n",
    "\n",
    "# was dealing with these\n",
    "# Warning:(1, 1) Package requirements 'chromadb==0.4.15',\n",
    "# 'jupyter-events==0.8.0',\n",
    "# 'llvmlite==0.41.1',\n",
    "# 'mteb==1.1.1',\n",
    "# 'numba==0.58.1',\n",
    "# 'onnx==1.15.0', 'onnxruntime==1.15.1',\n",
    "# 'pulsar-client==3.3.0',\n",
    "# 'pyannote.audio==3.1.1',\n",
    "# 'scipy==1.11.3',\n",
    "# 'sentence-transformers==2.2.2', 'sentencepiece==0.1.99',\n",
    "# 'speechbrain==0.5.16',\n",
    "# 'torch==2.1.2', 'torchaudio==2.1.2', 'torchvision==0.16.2',\n",
    "# 'unstructured-inference==0.7.18',\n",
    "# 'urllib3==2.1.0' are not satisfied\n",
    "\n",
    "\n",
    "\n",
    "\n",
    "\n"
   ],
   "metadata": {
    "collapsed": false
   }
  },
  {
   "cell_type": "code",
   "execution_count": null,
   "outputs": [],
   "source": [],
   "metadata": {
    "collapsed": false
   }
  }
 ],
 "metadata": {
  "kernelspec": {
   "display_name": "Python 3",
   "language": "python",
   "name": "python3"
  },
  "language_info": {
   "codemirror_mode": {
    "name": "ipython",
    "version": 2
   },
   "file_extension": ".py",
   "mimetype": "text/x-python",
   "name": "python",
   "nbconvert_exporter": "python",
   "pygments_lexer": "ipython2",
   "version": "2.7.6"
  }
 },
 "nbformat": 4,
 "nbformat_minor": 0
}
