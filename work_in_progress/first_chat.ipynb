{
 "cells": [
  {
   "cell_type": "markdown",
   "source": [
    "### use ChatOpenAI\n",
    "\n",
    "check out [Medium: Introduction to OpenAi and LangChain](https://medium.com/@786sksujanislam786/introduction-to-openai-and-langchain-131fb629becb)"
   ],
   "metadata": {
    "collapsed": false
   }
  },
  {
   "cell_type": "code",
   "execution_count": null,
   "outputs": [],
   "source": [
    "from dotenv import dotenv_values\n",
    "config = dotenv_values(\".env\")\n",
    "openai_api_key=config['OPENAI_API_KEY']\n",
    "%env OPENAI_API_KEY=$openai_api_key"
   ],
   "metadata": {
    "collapsed": false
   }
  },
  {
   "cell_type": "code",
   "execution_count": null,
   "outputs": [],
   "source": [
    "# Import necessary libraries for Langchain\n",
    "from langchain.llms import OpenAI\n",
    "from langchain.chat_models import ChatOpenAI\n",
    "\n",
    "# Create instances of Langchain objects\n",
    "llm = OpenAI()\n",
    "chat_model = ChatOpenAI()"
   ],
   "metadata": {
    "collapsed": false
   }
  },
  {
   "cell_type": "code",
   "execution_count": null,
   "outputs": [],
   "source": [
    "# Use Langchain to predict a response\n",
    "response=chat_model.invoke(\"Tell me about data science\")\n",
    "\n",
    "print(f\"type of response {type(response)}\")\n",
    "print(f\"type of response.content {type(response.content)}\\n\\n\")\n",
    "print(response.content)"
   ],
   "metadata": {
    "collapsed": false
   }
  },
  {
   "cell_type": "markdown",
   "source": [
    "### move on to prompts"
   ],
   "metadata": {
    "collapsed": false
   }
  },
  {
   "cell_type": "code",
   "execution_count": null,
   "outputs": [],
   "source": [
    "from langchain.prompts.chat import (\n",
    "    SystemMessagePromptTemplate,\n",
    "    AIMessagePromptTemplate,\n",
    "    HumanMessagePromptTemplate,\n",
    "    ChatPromptTemplate\n",
    ")\n",
    "from langchain.chains import LLMChain\n",
    "\n",
    "llm = ChatOpenAI(temperature=0.7, model_name=\"gpt-4\", n=3)\n",
    "llm"
   ],
   "metadata": {
    "collapsed": false
   }
  },
  {
   "cell_type": "code",
   "execution_count": null,
   "outputs": [],
   "source": [
    "system_template = SystemMessagePromptTemplate.from_template(\"You are an expert in Data Science and Machine Learning\")\n",
    "user_template = HumanMessagePromptTemplate.from_template(\"{user_prompt}\")\n",
    "\n",
    "template = ChatPromptTemplate.from_messages([system_template, user_template])\n",
    "\n",
    "chain = LLMChain(llm=llm, prompt=template)\n",
    "chain"
   ],
   "metadata": {
    "collapsed": false
   }
  },
  {
   "cell_type": "code",
   "execution_count": null,
   "outputs": [],
   "source": [
    "user_prompt = \"How should I handle outliers in dirty datasets\"\n",
    "\n",
    "# Run the Langchain chain with the user prompt\n",
    "response = chain.run({\"user_prompt\": user_prompt})\n",
    "\n",
    "print(f\"type of response is {type(response)}\\n\\n\")\n",
    "\n",
    "\n",
    "print(response)"
   ],
   "metadata": {
    "collapsed": false
   }
  }
 ],
 "metadata": {
  "kernelspec": {
   "display_name": "Python 3",
   "language": "python",
   "name": "python3"
  },
  "language_info": {
   "codemirror_mode": {
    "name": "ipython",
    "version": 2
   },
   "file_extension": ".py",
   "mimetype": "text/x-python",
   "name": "python",
   "nbconvert_exporter": "python",
   "pygments_lexer": "ipython2",
   "version": "2.7.6"
  }
 },
 "nbformat": 4,
 "nbformat_minor": 0
}
