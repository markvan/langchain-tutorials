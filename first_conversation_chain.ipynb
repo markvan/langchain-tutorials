{
 "cells": [
  {
   "cell_type": "markdown",
   "source": [
    "### A first conversation chain example with context and memory\n",
    "\n",
    "As offered in a [stackoverflow answer](https://stackoverflow.com/questions/76144215/langchain-with-context-and-memory) by [Andrew Reece](https://stackoverflow.com/users/2799941/andrew-reece)"
   ],
   "metadata": {
    "collapsed": false
   }
  },
  {
   "cell_type": "markdown",
   "source": [
    "[Pandas DataFrame](https://pandas.pydata.org/pandas-docs/stable/reference/api/pandas.DataFrame.html) is a mutable 2D structure\n",
    "\n",
    "In turn this data structure is loaded into a LangChain Document by a [LangChain DataFrameLoader](https://api.python.langchain.com/en/latest/document_loaders/langchain_community.document_loaders.dataframe.DataFrameLoader.html#).\n",
    "\n",
    "Note that the DataFrameLoader works by default with a column called `text`, but a different column can be used if specified at DataFrameLoader instantiation time. See [here](https://github.com/langchain-ai/langchain/issues/12601).\n",
    "\n",
    "See also this [page of examples using DataFrameLoader](https://python.langchain.com/docs/integrations/document_loaders/pandas_dataframe) and [this integrations page](https://python.langchain.com/docs/integrations/toolkits/pandas)."
   ],
   "metadata": {
    "collapsed": false
   }
  },
  {
   "cell_type": "code",
   "execution_count": null,
   "outputs": [],
   "source": [
    "import pandas as pd\n",
    "\n",
    "from langchain.document_loaders import DataFrameLoader\n",
    "from langchain.llms import OpenAI\n",
    "from langchain.embeddings.openai import OpenAIEmbeddings\n",
    "from langchain.vectorstores import Chroma\n",
    "from langchain.chains import ConversationalRetrievalChain\n",
    "from langchain.memory import ConversationBufferMemory\n",
    "\n",
    "data = {\n",
    "    'index': ['001', '002', '003'],\n",
    "    'text': [\n",
    "        'title: cat friend\\ni like cats and the color blue.',\n",
    "        'title: dog friend\\ni like dogs and the smell of rain.',\n",
    "        'title: bird friend\\ni like birds and the feel of sunshine.'\n",
    "    ]\n",
    "}\n",
    "\n",
    "df = pd.DataFrame(data)\n",
    "loader = DataFrameLoader(df, page_content_column=\"text\")\n",
    "docs = loader.load()"
   ],
   "metadata": {
    "collapsed": false
   }
  },
  {
   "cell_type": "code",
   "execution_count": null,
   "outputs": [],
   "source": [
    "print(docs)"
   ],
   "metadata": {
    "collapsed": false
   }
  },
  {
   "cell_type": "code",
   "execution_count": null,
   "outputs": [],
   "source": [],
   "metadata": {
    "collapsed": false
   }
  },
  {
   "cell_type": "markdown",
   "source": [
    "<span style=\"color:red\">*todo* check this:</span> [handy Medium post](https://medium.com/coinmonks/creating-an-ai-trained-using-thousands-of-industries-standards-fe269c0d0b5b)."
   ],
   "metadata": {
    "collapsed": false
   }
  },
  {
   "cell_type": "code",
   "execution_count": null,
   "outputs": [],
   "source": [],
   "metadata": {
    "collapsed": false
   }
  }
 ],
 "metadata": {
  "kernelspec": {
   "display_name": "Python 3",
   "language": "python",
   "name": "python3"
  },
  "language_info": {
   "codemirror_mode": {
    "name": "ipython",
    "version": 2
   },
   "file_extension": ".py",
   "mimetype": "text/x-python",
   "name": "python",
   "nbconvert_exporter": "python",
   "pygments_lexer": "ipython2",
   "version": "2.7.6"
  }
 },
 "nbformat": 4,
 "nbformat_minor": 0
}
